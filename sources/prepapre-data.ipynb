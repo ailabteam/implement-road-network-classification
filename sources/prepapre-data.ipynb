{
 "cells": [
  {
   "cell_type": "code",
   "execution_count": 1,
   "id": "02310e14-27a3-44b4-a2ed-d97342df5eba",
   "metadata": {},
   "outputs": [
    {
     "name": "stdout",
     "output_type": "stream",
     "text": [
      "please install library for project\n",
      "nice\n"
     ]
    }
   ],
   "source": [
    "print('please install library for project')\n",
    "\n",
    "print('nice')"
   ]
  },
  {
   "cell_type": "code",
   "execution_count": null,
   "id": "d6c8d71b-a2b3-4b3a-b063-529c619c2d5e",
   "metadata": {},
   "outputs": [],
   "source": []
  }
 ],
 "metadata": {
  "kernelspec": {
   "display_name": "default:Python",
   "language": "python",
   "name": "conda-env-default-py"
  },
  "language_info": {
   "codemirror_mode": {
    "name": "ipython",
    "version": 3
   },
   "file_extension": ".py",
   "mimetype": "text/x-python",
   "name": "python",
   "nbconvert_exporter": "python",
   "pygments_lexer": "ipython3",
   "version": "3.9.7"
  }
 },
 "nbformat": 4,
 "nbformat_minor": 5
}
